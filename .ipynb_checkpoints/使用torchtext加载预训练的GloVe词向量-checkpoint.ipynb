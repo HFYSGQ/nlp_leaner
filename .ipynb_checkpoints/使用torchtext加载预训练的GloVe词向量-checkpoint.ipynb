{
 "cells": [
  {
   "cell_type": "code",
   "execution_count": 4,
   "metadata": {},
   "outputs": [],
   "source": [
    "import torch\n",
    "from torchtext import data\n",
    "from torchtext import datasets\n",
    "from torchtext.vocab import GloVe\n",
    "import numpy as np"
   ]
  },
  {
   "cell_type": "code",
   "execution_count": 5,
   "metadata": {},
   "outputs": [],
   "source": [
    "from torchtext.data import Field\n",
    "TEXT = Field(lower=True)"
   ]
  },
  {
   "cell_type": "code",
   "execution_count": 2,
   "metadata": {},
   "outputs": [
    {
     "ename": "ModuleNotFoundError",
     "evalue": "No module named 'torch'",
     "output_type": "error",
     "traceback": [
      "\u001b[1;31m---------------------------------------------------------------------------\u001b[0m",
      "\u001b[1;31mModuleNotFoundError\u001b[0m                       Traceback (most recent call last)",
      "\u001b[1;32m<ipython-input-2-eb42ca6e4af3>\u001b[0m in \u001b[0;36m<module>\u001b[1;34m\u001b[0m\n\u001b[1;32m----> 1\u001b[1;33m \u001b[1;32mimport\u001b[0m \u001b[0mtorch\u001b[0m\u001b[1;33m\u001b[0m\u001b[1;33m\u001b[0m\u001b[0m\n\u001b[0m",
      "\u001b[1;31mModuleNotFoundError\u001b[0m: No module named 'torch'"
     ]
    }
   ],
   "source": [
    "def load_data(opt):\n",
    "    # use torchtext to load data, no need to download dataset\n",
    "    print(\"loading {} dataset\".format(opt.dataset))\n",
    "    # set up fields\n",
    "    text = data.Field(lower=True, include_lengths=True, batch_first=True, fix_length=opt.max_seq_len)\n",
    "    label = data.Field(sequential=False)\n",
    "\n",
    "    # make splits for data\n",
    "    train, test = datasets.IMDB.splits(text, label)\n",
    "\n",
    "    # build the vocabulary\n",
    "    text.build_vocab(train, vectors=GloVe(name='6B', dim=300))\n",
    "    label.build_vocab(train)\n",
    "\n",
    "    # print vocab information\n",
    "    print('len(TEXT.vocab)', len(text.vocab))\n",
    "    print('TEXT.vocab.vectors.size()', text.vocab.vectors.size())"
   ]
  },
  {
   "cell_type": "code",
   "execution_count": null,
   "metadata": {},
   "outputs": [],
   "source": []
  }
 ],
 "metadata": {
  "kernelspec": {
   "display_name": "Python 3",
   "language": "python",
   "name": "python3"
  },
  "language_info": {
   "codemirror_mode": {
    "name": "ipython",
    "version": 3
   },
   "file_extension": ".py",
   "mimetype": "text/x-python",
   "name": "python",
   "nbconvert_exporter": "python",
   "pygments_lexer": "ipython3",
   "version": "3.7.3"
  }
 },
 "nbformat": 4,
 "nbformat_minor": 2
}
