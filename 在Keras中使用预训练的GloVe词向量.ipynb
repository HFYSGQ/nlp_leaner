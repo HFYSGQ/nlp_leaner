{
 "cells": [
  {
   "cell_type": "code",
   "execution_count": 140,
   "metadata": {},
   "outputs": [],
   "source": [
    "import os\n",
    "import sys\n",
    "import numpy as np\n",
    "from keras.preprocessing.text import Tokenizer\n",
    "from keras.preprocessing.sequence import pad_sequences\n",
    "from keras.utils import to_categorical\n",
    "from keras.layers import Dense, Input, GlobalMaxPooling1D\n",
    "from keras.layers import Conv1D, MaxPooling1D, Embedding\n",
    "from keras.models import Model\n",
    "from keras.initializers import Constant"
   ]
  },
  {
   "cell_type": "code",
   "execution_count": 141,
   "metadata": {},
   "outputs": [],
   "source": [
    "BASE_DIR = r\"C:\\Users\\Administrator.DESKTOP-10M2D22\\Desktop\"\n",
    "GLOVE_DIR = os.path.join(BASE_DIR,\"glove.6B\")\n",
    "TEXT_DATA_DIR = os.path.join(BASE_DIR,\"20_newsgroup\")\n",
    "MAX_SEQUENCE_LENGTH = 1000\n",
    "MAX_NUM_WORDS = 20000\n",
    "EMBEDDING_DIM = 100\n",
    "VALIDATION_SPLIT = 0.2"
   ]
  },
  {
   "cell_type": "code",
   "execution_count": 142,
   "metadata": {},
   "outputs": [
    {
     "name": "stdout",
     "output_type": "stream",
     "text": [
      "Found 400000 word vectors.\n"
     ]
    }
   ],
   "source": [
    "#first,build index mapping words in embedding set to their embedding vector\n",
    "embeddings_index = {}\n",
    "with open(os.path.join(GLOVE_DIR,\"glove.6B.100d.txt\"),\"rb\") as f:\n",
    "    for line in f:\n",
    "        word,coefs = line.split(maxsplit=1)\n",
    "        coefs = np.fromstring(coefs,\"f\",sep=\" \")\n",
    "        embeddings_index[word] = coefs\n",
    "print(\"Found %s word vectors.\" % len(embeddings_index))"
   ]
  },
  {
   "cell_type": "code",
   "execution_count": 123,
   "metadata": {},
   "outputs": [
    {
     "name": "stdout",
     "output_type": "stream",
     "text": [
      "Found 19997 texts.\n"
     ]
    }
   ],
   "source": [
    "#second,prepare text sampels and their labels\n",
    "texts = []\n",
    "labels_index = {}\n",
    "labels = []\n",
    "for name in sorted(os.listdir(TEXT_DATA_DIR)):\n",
    "    path = os.path.join(TEXT_DATA_DIR,name)\n",
    "    if os.path.isdir(path):\n",
    "        label_id  = len(labels_index)\n",
    "        labels_index[name] = label_id\n",
    "        for fname in sorted(os.listdir(path)):\n",
    "            if fname.isdigit():\n",
    "                fpath = os.path.join(path,fname)\n",
    "                args ={}  if sys.version_info <(3,) else{'encoding': 'latin-1'}\n",
    "                with open(fpath,**args) as f:\n",
    "                    t = f.read()\n",
    "                    i = t.find(\"\\n\\n\")\n",
    "                    if 0<i:\n",
    "                        t =t[1:]\n",
    "                    texts.append(t)\n",
    "                labels.append(label_id)\n",
    "print(\"Found %s texts.\" % len(texts))"
   ]
  },
  {
   "cell_type": "code",
   "execution_count": 124,
   "metadata": {
    "scrolled": true
   },
   "outputs": [
    {
     "name": "stdout",
     "output_type": "stream",
     "text": [
      "Found 214876 unique tokens.\n",
      "Shape of dtat tensor: (19997, 1000)\n",
      "Shape of label tensor: (19997, 20)\n"
     ]
    }
   ],
   "source": [
    "#finally,vectorize the text sampels into a 2D integer tensor\n",
    "tokenizer = Tokenizer(nb_words = MAX_NUM_WORDS)\n",
    "tokenizer.fit_on_texts(texts)\n",
    "sequences = tokenizer.texts_to_sequences(texts)\n",
    "\n",
    "word_index = tokenizer.word_index\n",
    "print(\"Found %s unique tokens.\" % len(word_index))\n",
    "\n",
    "data = pad_sequences(sequences,maxlen = MAX_SEQUENCE_LENGTH)\n",
    "labels = to_categorical(np.asarray(labels))\n",
    "print(\"Shape of dtat tensor:\",data.shape)\n",
    "print(\"Shape of label tensor:\",labels.shape)"
   ]
  },
  {
   "cell_type": "code",
   "execution_count": 131,
   "metadata": {},
   "outputs": [],
   "source": [
    "#split the data into a training set and a validation set\n",
    "indices = np.arange(data.shape[0])\n",
    "np.random.shuffle(indices)\n",
    "data = data[indices]\n",
    "num_validation_samples = int(VALIDATION_SPLIT*data.shape[0])\n",
    "\n",
    "X_train = data[:-num_validation_samples]\n",
    "y_train = labels[:-num_validation_samples]\n",
    "X_val = data[-num_validation_samples:]\n",
    "y_val = labels[-num_validation_samples:]"
   ]
  },
  {
   "cell_type": "code",
   "execution_count": 132,
   "metadata": {},
   "outputs": [],
   "source": [
    "#preapre embedding matrix\n",
    "num_words = min(MAX_NUM_WORDS,len(word_index)+1)\n",
    "embedding_matrix = np.zeros((num_words,EMBEDDING_DIM))\n",
    "for word,i in word_index.items():\n",
    "    if i>=MAX_NUM_WORDS:\n",
    "        continue\n",
    "    embedding_vector = embeddings_index.get(word)\n",
    "    if embedding_vector is not None:\n",
    "        embedding_matrix[i] = embedding_vector"
   ]
  },
  {
   "cell_type": "code",
   "execution_count": 133,
   "metadata": {},
   "outputs": [
    {
     "name": "stdout",
     "output_type": "stream",
     "text": [
      "Training model...\n"
     ]
    }
   ],
   "source": [
    "#load pre_train word embeddings into a Embedding layer\n",
    "embedding_layer = Embedding(num_words,\n",
    "                            EMBEDDING_DIM,\n",
    "                            embeddings_initializer = Constant(embedding_matrix),\n",
    "                            input_length=MAX_SEQUENCE_LENGTH,\n",
    "                            trainable=False)\n",
    "print(\"Training model...\")"
   ]
  },
  {
   "cell_type": "code",
   "execution_count": 134,
   "metadata": {
    "collapsed": true
   },
   "outputs": [
    {
     "name": "stderr",
     "output_type": "stream",
     "text": [
      "W0729 15:22:47.859762 30824 deprecation.py:323] From D:\\software\\anaconda\\lib\\site-packages\\tensorflow\\python\\ops\\math_grad.py:1250: add_dispatch_support.<locals>.wrapper (from tensorflow.python.ops.array_ops) is deprecated and will be removed in a future version.\n",
      "Instructions for updating:\n",
      "Use tf.where in 2.0, which has the same broadcast rule as np.where\n",
      "W0729 15:22:48.013304 30824 deprecation_wrapper.py:119] From D:\\software\\anaconda\\lib\\site-packages\\keras\\backend\\tensorflow_backend.py:986: The name tf.assign_add is deprecated. Please use tf.compat.v1.assign_add instead.\n",
      "\n"
     ]
    },
    {
     "name": "stdout",
     "output_type": "stream",
     "text": [
      "Train on 15998 samples, validate on 3999 samples\n",
      "Epoch 1/10\n",
      "15998/15998 [==============================] - 69s 4ms/step - loss: 2.9766 - acc: 0.0604 - val_loss: 3.1523 - val_acc: 0.0000e+00\n",
      "Epoch 2/10\n",
      "15998/15998 [==============================] - 68s 4ms/step - loss: 2.9461 - acc: 0.0613 - val_loss: 3.2985 - val_acc: 0.0000e+00\n",
      "Epoch 3/10\n",
      "15998/15998 [==============================] - 69s 4ms/step - loss: 2.9209 - acc: 0.0581 - val_loss: 3.4424 - val_acc: 0.0000e+00\n",
      "Epoch 4/10\n",
      "15998/15998 [==============================] - 69s 4ms/step - loss: 2.8999 - acc: 0.0577 - val_loss: 3.5845 - val_acc: 0.0000e+00\n",
      "Epoch 5/10\n",
      "15998/15998 [==============================] - 68s 4ms/step - loss: 2.8821 - acc: 0.0586 - val_loss: 3.7254 - val_acc: 0.0000e+00\n",
      "Epoch 6/10\n",
      "15998/15998 [==============================] - 66s 4ms/step - loss: 2.8671 - acc: 0.0589 - val_loss: 3.8654 - val_acc: 0.0000e+00\n",
      "Epoch 7/10\n",
      "15998/15998 [==============================] - 64s 4ms/step - loss: 2.8544 - acc: 0.0584 - val_loss: 4.0024 - val_acc: 0.0000e+00\n",
      "Epoch 8/10\n",
      "15998/15998 [==============================] - 65s 4ms/step - loss: 2.8436 - acc: 0.0575 - val_loss: 4.1389 - val_acc: 0.0000e+00\n",
      "Epoch 9/10\n",
      "15998/15998 [==============================] - 65s 4ms/step - loss: 2.8344 - acc: 0.0604 - val_loss: 4.2725 - val_acc: 0.0000e+00\n",
      "Epoch 10/10\n",
      "15998/15998 [==============================] - 67s 4ms/step - loss: 2.8265 - acc: 0.0600 - val_loss: 4.4058 - val_acc: 0.0000e+00\n"
     ]
    },
    {
     "data": {
      "text/plain": [
       "<keras.callbacks.History at 0x1738ab85048>"
      ]
     },
     "execution_count": 134,
     "metadata": {},
     "output_type": "execute_result"
    }
   ],
   "source": [
    "#train a 1D convnet with global maxpooling\n",
    "sequence_input = Input(shape=(MAX_SEQUENCE_LENGTH,),dtype=\"int32\")\n",
    "embedded_sequences = embedding_layer(sequence_input)\n",
    "x = Conv1D(128,5,activation=\"relu\")(embedded_sequences)\n",
    "x = MaxPooling1D(5)(x)\n",
    "x = Conv1D(128,5,activation=\"relu\")(x)\n",
    "x = MaxPooling1D(5)(x)\n",
    "x = Conv1D(128,5,activation=\"relu\")(x)\n",
    "x = GlobalMaxPooling1D()(x)\n",
    "x = Dense(128,activation=\"relu\")(x)\n",
    "preds = Dense(len(labels_index),activation=\"softmax\")(x)\n",
    "\n",
    "model = Model(sequence_input,preds)\n",
    "model.compile(loss=\"categorical_crossentropy\",\n",
    "             optimizer=\"rmsprop\",\n",
    "             metrics=[\"acc\"])\n",
    "\n",
    "model.fit(X_train,y_train,\n",
    "         batch_size=128,\n",
    "         epochs=10,\n",
    "         validation_data=(X_val,y_val))"
   ]
  }
 ],
 "metadata": {
  "kernelspec": {
   "display_name": "Python 3",
   "language": "python",
   "name": "python3"
  },
  "language_info": {
   "codemirror_mode": {
    "name": "ipython",
    "version": 3
   },
   "file_extension": ".py",
   "mimetype": "text/x-python",
   "name": "python",
   "nbconvert_exporter": "python",
   "pygments_lexer": "ipython3",
   "version": "3.7.3"
  }
 },
 "nbformat": 4,
 "nbformat_minor": 2
}
